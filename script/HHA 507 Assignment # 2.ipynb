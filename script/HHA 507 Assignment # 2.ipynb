{
 "cells": [
  {
   "cell_type": "code",
   "execution_count": 134,
   "id": "e13bd125",
   "metadata": {},
   "outputs": [
    {
     "name": "stdout",
     "output_type": "stream",
     "text": [
      "Number of Rows:  781148\n",
      "Number of Columns:  9\n",
      "Column Names : ['District NCES ID', 'District Name', 'Week', 'Learning Modality', 'Operational Schools', 'Student Count', 'City', 'State', 'ZIP Code']\n",
      "List of Columns and Number of Missing Values Within Those Columns District NCES ID       0\n",
      "District Name          0\n",
      "Week                   0\n",
      "Learning Modality      0\n",
      "Operational Schools    0\n",
      "Student Count          0\n",
      "City                   0\n",
      "State                  0\n",
      "ZIP Code               0\n",
      "dtype: int64\n"
     ]
    }
   ],
   "source": [
    "\n",
    "import csv\n",
    "import pandas as pd\n",
    "import re\n",
    "import requests\n",
    "import io\n",
    "from skimpy import clean_columns\n",
    "from datetime import datetime\n",
    "  \n",
    "\n",
    "# Loads the data into python\n",
    "url = \"https://raw.githubusercontent.com/EmmanuelEkwebelem/hha-data-cleaning/main/data/School_Learning_Modalities.csv?token=GHSAT0AAAAAABYODX6OMUE7P5YHOZ42CMGQYYYBBNA\"\n",
    "download = requests.get(url).content\n",
    "df = pd.read_csv(io.StringIO(download.decode('utf-8'))) \n",
    "\n",
    "# computing number of rows and columns\n",
    "rowlength = len(df.axes[0])\n",
    "columnlength = len(df.axes[1])\n",
    "\n",
    "# Prints the count of columns and rows\n",
    "print(\"Number of Rows: \", rowlength)\n",
    "print(\"Number of Columns: \", columnlength)\n",
    "\n",
    "# Provides a print out of the column names\n",
    "columns = list(df.columns.values)\n",
    "print(\"Column Names :\", column_headers)\n",
    "\n",
    "# Cleans the strings that might exist within each column\n",
    "df['District NCES ID'] = df['District NCES ID'].astype(str).str.strip() \n",
    "df['District Name'] = df['District Name'].astype(str).str.strip() \n",
    "df['Week'] = df['Week'].astype(str).str.strip() \n",
    "df['Operational Schools'] = df['Operational Schools'].astype(str).str.strip() \n",
    "df['Learning Modality'] = df['Learning Modality'].astype(str).str.strip() \n",
    "df['Student Count'] = df['Student Count'].astype(str).str.strip() \n",
    "df['City'] = df['City'].astype(str).str.strip() \n",
    "df['State'] = df['State'].astype(str).str.strip() \n",
    "df['ZIP Code'] = df['ZIP Code'].astype(str).str.strip() \n",
    "\n",
    "# Assesses white space or special characters\n",
    "df['District NCES ID'] = df['District NCES ID'].astype(str).str.replace('[^A-Za-z0-9]+', ' ', regex=True)\n",
    "df['District Name'] = df['District Name'].astype(str).str.replace('[^A-Za-z0-9]+', ' ', regex=True)\n",
    "df['Week'] = df['Week'].astype(str).str.replace('[^A-Za-z0-9]+', ' ', regex=True)\n",
    "df['Operational Schools'] = df['Operational Schools'].astype(str).str.replace('[^A-Za-z0-9]+', ' ', regex=True) \n",
    "df['Learning Modality'] = df['Learning Modality'].astype(str).str.replace('[^A-Za-z0-9]+', ' ', regex=True)\n",
    "df['City'] = df['City'].astype(str).str.replace('[^A-Za-z0-9]+', ' ', regex=True)\n",
    "df['State'] = df['State'].astype(str).str.replace('[^A-Za-z0-9]+', ' ', regex=True) \n",
    "df['ZIP Code'] = df['ZIP Code'].astype(str).str.replace('[^A-Za-z0-9]+', ' ', regex=True)\n",
    "\n",
    "# Converts the column types to the correct types\n",
    "df['Week'] = pd.to_datetime(df['Week'], format='%m %d %Y %H %M %S %p')\n",
    "df['ZIP Code'] = df['ZIP Code'].astype(str).str.zfill(5)\n",
    "df['ZIP Code'] =df['ZIP Code'].str.replace(r'(\\w{3})',r'\\1-',regex=True).str.strip('\\-')\n",
    "\n",
    "# Look for duplicate rows and remove duplicate rows\n",
    "Duplicate_Rows = df[df.duplicated()]\n",
    "Delete_Duplicate = df.drop_duplicates(keep='first')\n",
    "df['District Name'] = df['District Name'].str.title()\n",
    "df['City'] = df['City'].str.title()\n",
    "\n",
    "#Was trying to remove decimal point here: \n",
    "#df['Student Count'].astype(int)\n",
    "\n",
    "# Assess missingness (count of missing values per column)\n",
    "print('List of Columns and Number of Missing Values Within Those Columns',df.isnull().sum())\n",
    "\n",
    "# New datafield: attempt to create a new column called modality_inperson. \n",
    "# Yhis column should contain a binary value of true or false. \n",
    "# Try to write a function that takes in the old column name (learning modality), \n",
    "# and recodes the value for a specific row to true, if the learning modality value is ‘in-person’, \n",
    "# and recodes it to false if the value is either ‘remote’ or ‘hybrid’\n",
    "df['modality_inperson'] = df['Learning Modality'].apply(lambda x: 'True' if x == 'In Person' else 'False')\n",
    "\n",
    "#  Cleans the column names did this last as it kept messing up the previous steps \n",
    "df.columns=df.columns.str.lower().str.replace(' ','_')\n",
    "\n",
    "df.to_csv(\"C:/Users/emman/Documents/GitHub/hha-data-cleaning/data/New_School_Learning_Modalities.csv\")\n",
    "\n"
   ]
  },
  {
   "cell_type": "code",
   "execution_count": 116,
   "id": "70442fea",
   "metadata": {},
   "outputs": [
    {
     "name": "stdout",
     "output_type": "stream",
     "text": [
      "Number of Rows:  781148\n",
      "Number of Columns:  9\n",
      "Column Names : ['District NCES ID', 'District Name', 'Week', 'Learning Modality', 'Operational Schools', 'Student Count', 'City', 'State', 'ZIP Code']\n"
     ]
    },
    {
     "ename": "AttributeError",
     "evalue": "'DataFrame' object has no attribute 'str'",
     "output_type": "error",
     "traceback": [
      "\u001b[1;31m---------------------------------------------------------------------------\u001b[0m",
      "\u001b[1;31mAttributeError\u001b[0m                            Traceback (most recent call last)",
      "Input \u001b[1;32mIn [116]\u001b[0m, in \u001b[0;36m<cell line: 27>\u001b[1;34m()\u001b[0m\n\u001b[0;32m     24\u001b[0m \u001b[38;5;28mprint\u001b[39m(\u001b[38;5;124m\"\u001b[39m\u001b[38;5;124mColumn Names :\u001b[39m\u001b[38;5;124m\"\u001b[39m, column_headers)\n\u001b[0;32m     26\u001b[0m \u001b[38;5;66;03m# Cleans the strings that might exist within each column\u001b[39;00m\n\u001b[1;32m---> 27\u001b[0m df\u001b[38;5;241m.\u001b[39miloc[:, \u001b[38;5;241m0\u001b[39m:\u001b[38;5;241m4\u001b[39m] \u001b[38;5;241m=\u001b[39m \u001b[43mdf\u001b[49m\u001b[38;5;241;43m.\u001b[39;49m\u001b[43miloc\u001b[49m\u001b[43m[\u001b[49m\u001b[43m:\u001b[49m\u001b[43m,\u001b[49m\u001b[43m \u001b[49m\u001b[38;5;241;43m0\u001b[39;49m\u001b[43m:\u001b[49m\u001b[38;5;241;43m4\u001b[39;49m\u001b[43m]\u001b[49m\u001b[38;5;241;43m.\u001b[39;49m\u001b[43mastype\u001b[49m\u001b[43m(\u001b[49m\u001b[38;5;28;43mstr\u001b[39;49m\u001b[43m)\u001b[49m\u001b[38;5;241;43m.\u001b[39;49m\u001b[43mstr\u001b[49m\u001b[38;5;241m.\u001b[39mstrip() \n\u001b[0;32m     28\u001b[0m \u001b[38;5;66;03m#df['District Name'] = df['District Name'].astype(str).str.strip() \u001b[39;00m\n\u001b[0;32m     29\u001b[0m \u001b[38;5;66;03m#df['Week'] = df['Week'].astype(str).str.strip() \u001b[39;00m\n\u001b[0;32m     30\u001b[0m \u001b[38;5;66;03m#df['Operational Schools'] = df['Operational Schools'].astype(str).str.strip() \u001b[39;00m\n\u001b[1;32m   (...)\u001b[0m\n\u001b[0;32m     36\u001b[0m \n\u001b[0;32m     37\u001b[0m \u001b[38;5;66;03m# Assesses white space or special characters\u001b[39;00m\n\u001b[0;32m     38\u001b[0m df[\u001b[38;5;124m'\u001b[39m\u001b[38;5;124mDistrict NCES ID\u001b[39m\u001b[38;5;124m'\u001b[39m] \u001b[38;5;241m=\u001b[39m df[\u001b[38;5;124m'\u001b[39m\u001b[38;5;124mDistrict NCES ID\u001b[39m\u001b[38;5;124m'\u001b[39m]\u001b[38;5;241m.\u001b[39mastype(\u001b[38;5;28mstr\u001b[39m)\u001b[38;5;241m.\u001b[39mstr\u001b[38;5;241m.\u001b[39mreplace(\u001b[38;5;124m'\u001b[39m\u001b[38;5;124m[^A-Za-z0-9]+\u001b[39m\u001b[38;5;124m'\u001b[39m, \u001b[38;5;124m'\u001b[39m\u001b[38;5;124m \u001b[39m\u001b[38;5;124m'\u001b[39m, regex\u001b[38;5;241m=\u001b[39m\u001b[38;5;28;01mTrue\u001b[39;00m)\n",
      "File \u001b[1;32m~\\anaconda3\\lib\\site-packages\\pandas\\core\\generic.py:5575\u001b[0m, in \u001b[0;36mNDFrame.__getattr__\u001b[1;34m(self, name)\u001b[0m\n\u001b[0;32m   5568\u001b[0m \u001b[38;5;28;01mif\u001b[39;00m (\n\u001b[0;32m   5569\u001b[0m     name \u001b[38;5;129;01mnot\u001b[39;00m \u001b[38;5;129;01min\u001b[39;00m \u001b[38;5;28mself\u001b[39m\u001b[38;5;241m.\u001b[39m_internal_names_set\n\u001b[0;32m   5570\u001b[0m     \u001b[38;5;129;01mand\u001b[39;00m name \u001b[38;5;129;01mnot\u001b[39;00m \u001b[38;5;129;01min\u001b[39;00m \u001b[38;5;28mself\u001b[39m\u001b[38;5;241m.\u001b[39m_metadata\n\u001b[0;32m   5571\u001b[0m     \u001b[38;5;129;01mand\u001b[39;00m name \u001b[38;5;129;01mnot\u001b[39;00m \u001b[38;5;129;01min\u001b[39;00m \u001b[38;5;28mself\u001b[39m\u001b[38;5;241m.\u001b[39m_accessors\n\u001b[0;32m   5572\u001b[0m     \u001b[38;5;129;01mand\u001b[39;00m \u001b[38;5;28mself\u001b[39m\u001b[38;5;241m.\u001b[39m_info_axis\u001b[38;5;241m.\u001b[39m_can_hold_identifiers_and_holds_name(name)\n\u001b[0;32m   5573\u001b[0m ):\n\u001b[0;32m   5574\u001b[0m     \u001b[38;5;28;01mreturn\u001b[39;00m \u001b[38;5;28mself\u001b[39m[name]\n\u001b[1;32m-> 5575\u001b[0m \u001b[38;5;28;01mreturn\u001b[39;00m \u001b[38;5;28;43mobject\u001b[39;49m\u001b[38;5;241;43m.\u001b[39;49m\u001b[38;5;21;43m__getattribute__\u001b[39;49m\u001b[43m(\u001b[49m\u001b[38;5;28;43mself\u001b[39;49m\u001b[43m,\u001b[49m\u001b[43m \u001b[49m\u001b[43mname\u001b[49m\u001b[43m)\u001b[49m\n",
      "\u001b[1;31mAttributeError\u001b[0m: 'DataFrame' object has no attribute 'str'"
     ]
    }
   ],
   "source": []
  },
  {
   "cell_type": "code",
   "execution_count": null,
   "id": "9922fbd4",
   "metadata": {},
   "outputs": [],
   "source": []
  }
 ],
 "metadata": {
  "kernelspec": {
   "display_name": "Python 3 (ipykernel)",
   "language": "python",
   "name": "python3"
  },
  "language_info": {
   "codemirror_mode": {
    "name": "ipython",
    "version": 3
   },
   "file_extension": ".py",
   "mimetype": "text/x-python",
   "name": "python",
   "nbconvert_exporter": "python",
   "pygments_lexer": "ipython3",
   "version": "3.9.12"
  }
 },
 "nbformat": 4,
 "nbformat_minor": 5
}
